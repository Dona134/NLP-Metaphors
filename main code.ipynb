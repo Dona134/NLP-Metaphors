{
 "cells": [
  {
   "cell_type": "markdown",
   "id": "d482b24d",
   "metadata": {
    "id": "d482b24d"
   },
   "source": [
    "## Importing libraries"
   ]
  },
  {
   "cell_type": "code",
   "execution_count": 2,
   "id": "8f76a9ad",
   "metadata": {},
   "outputs": [],
   "source": [
    "import os\n",
    "os.environ[\"TOKENIZERS_PARALLELISM\"] = \"false\" # To suppress tokenizer parallelism warnings"
   ]
  },
  {
   "cell_type": "code",
   "execution_count": 3,
   "id": "L1sKgvjiMzUW",
   "metadata": {
    "id": "L1sKgvjiMzUW"
   },
   "outputs": [],
   "source": [
    "import pandas as pd\n",
    "import numpy as np\n",
    "from sklearn.model_selection import train_test_split\n",
    "from sklearn.metrics import classification_report, precision_recall_fscore_support, accuracy_score"
   ]
  },
  {
   "cell_type": "code",
   "execution_count": 4,
   "id": "i1iizLHHNL5S",
   "metadata": {
    "colab": {
     "base_uri": "https://localhost:8080/"
    },
    "id": "i1iizLHHNL5S",
    "outputId": "4458ff79-2e74-4fad-b749-c550ec3ffbde"
   },
   "outputs": [
    {
     "name": "stdout",
     "output_type": "stream",
     "text": [
      "Requirement already satisfied: datasketch in /usr/local/python/3.12.1/lib/python3.12/site-packages (1.6.5)\n",
      "Requirement already satisfied: numpy>=1.11 in /home/codespace/.local/lib/python3.12/site-packages (from datasketch) (2.3.2)\n",
      "Requirement already satisfied: scipy>=1.0.0 in /home/codespace/.local/lib/python3.12/site-packages (from datasketch) (1.16.1)\n"
     ]
    },
    {
     "name": "stderr",
     "output_type": "stream",
     "text": [
      "/usr/local/python/3.12.1/lib/python3.12/site-packages/tqdm/auto.py:21: TqdmWarning: IProgress not found. Please update jupyter and ipywidgets. See https://ipywidgets.readthedocs.io/en/stable/user_install.html\n",
      "  from .autonotebook import tqdm as notebook_tqdm\n"
     ]
    }
   ],
   "source": [
    "!pip install datasketch\n",
    "from datasketch import MinHash, MinHashLSH\n",
    "from datasets import Dataset"
   ]
  },
  {
   "cell_type": "code",
   "execution_count": 5,
   "id": "9LALkqm5NQzf",
   "metadata": {
    "id": "9LALkqm5NQzf"
   },
   "outputs": [],
   "source": [
    "from sklearn.ensemble import RandomForestClassifier, GradientBoostingClassifier\n",
    "from sklearn.linear_model import LogisticRegression\n",
    "from sklearn.feature_extraction.text import TfidfVectorizer\n",
    "from sklearn.pipeline import Pipeline\n",
    "from sklearn.compose import ColumnTransformer\n",
    "from sklearn.preprocessing import OneHotEncoder\n",
    "from sklearn.utils.class_weight import compute_class_weight"
   ]
  },
  {
   "cell_type": "code",
   "execution_count": 6,
   "id": "Ns86sVOuNX1x",
   "metadata": {
    "id": "Ns86sVOuNX1x"
   },
   "outputs": [],
   "source": [
    "from transformers import RobertaTokenizerFast, RobertaForTokenClassification, Trainer, TrainingArguments, EarlyStoppingCallback, DataCollatorWithPadding\n",
    "import torch\n",
    "import torch.nn as nn"
   ]
  },
  {
   "cell_type": "code",
   "execution_count": 7,
   "id": "GvO_GAOccDLC",
   "metadata": {
    "id": "GvO_GAOccDLC"
   },
   "outputs": [],
   "source": [
    "import warnings\n",
    "from transformers import logging\n",
    "warnings.filterwarnings(\"ignore\")\n",
    "logging.set_verbosity_error()"
   ]
  },
  {
   "cell_type": "code",
   "execution_count": 8,
   "id": "69e43748",
   "metadata": {},
   "outputs": [],
   "source": [
    "# plot confusion matrix\n",
    "import matplotlib.pyplot as plt\n",
    "import seaborn as sns\n",
    "from sklearn.metrics import confusion_matrix\n",
    "from sklearn.metrics import ConfusionMatrixDisplay\n"
   ]
  },
  {
   "cell_type": "markdown",
   "id": "3FfjgJW_OfJj",
   "metadata": {
    "id": "3FfjgJW_OfJj"
   },
   "source": [
    "## Data Loading"
   ]
  },
  {
   "cell_type": "code",
   "execution_count": 9,
   "id": "26756c32",
   "metadata": {},
   "outputs": [
    {
     "name": "stdout",
     "output_type": "stream",
     "text": [
      "Requirement already satisfied: pyarrow in /usr/local/python/3.12.1/lib/python3.12/site-packages (21.0.0)\n"
     ]
    }
   ],
   "source": [
    "!pip install pyarrow"
   ]
  },
  {
   "cell_type": "code",
   "execution_count": null,
   "id": "Gez1EweUNz-L",
   "metadata": {
    "colab": {
     "base_uri": "https://localhost:8080/",
     "height": 0
    },
    "id": "Gez1EweUNz-L",
    "outputId": "8174ce67-d68f-4e2a-bb55-9d5f9b0651fb"
   },
   "outputs": [
    {
     "data": {
      "text/html": [
       "<div>\n",
       "<style scoped>\n",
       "    .dataframe tbody tr th:only-of-type {\n",
       "        vertical-align: middle;\n",
       "    }\n",
       "\n",
       "    .dataframe tbody tr th {\n",
       "        vertical-align: top;\n",
       "    }\n",
       "\n",
       "    .dataframe thead th {\n",
       "        text-align: right;\n",
       "    }\n",
       "</style>\n",
       "<table border=\"1\" class=\"dataframe\">\n",
       "  <thead>\n",
       "    <tr style=\"text-align: right;\">\n",
       "      <th></th>\n",
       "      <th>document_name</th>\n",
       "      <th>words</th>\n",
       "      <th>pos_tags</th>\n",
       "      <th>met_type</th>\n",
       "      <th>meta</th>\n",
       "    </tr>\n",
       "  </thead>\n",
       "  <tbody>\n",
       "    <tr>\n",
       "      <th>0</th>\n",
       "      <td>a1e-fragment01</td>\n",
       "      <td>[Latest, corporate, unbundler, reveals, laid-b...</td>\n",
       "      <td>[AJS, AJ0, NN1, VVZ, AJ0, NN1, PUN, NP0, NP0, ...</td>\n",
       "      <td>[{'type': 'mrw/met', 'word_indices': [3]}, {'t...</td>\n",
       "      <td>[N/A, N/A, N/A, N/A, N/A, N/A, N/A, N/A, N/A, ...</td>\n",
       "    </tr>\n",
       "    <tr>\n",
       "      <th>1</th>\n",
       "      <td>a1e-fragment01</td>\n",
       "      <td>[By, FRANK, KANE]</td>\n",
       "      <td>[PRP, NP0, NP0-NN1]</td>\n",
       "      <td>[]</td>\n",
       "      <td>[N/A, N/A, N/A]</td>\n",
       "    </tr>\n",
       "    <tr>\n",
       "      <th>2</th>\n",
       "      <td>a1e-fragment01</td>\n",
       "      <td>[IT, SEEMS, that, Roland, Franklin, ,, the, la...</td>\n",
       "      <td>[PNP, VVZ, CJT, NP0, NP0, PUN, AT0, AJS, NN1, ...</td>\n",
       "      <td>[{'type': 'mrw/met', 'word_indices': [16]}, {'...</td>\n",
       "      <td>[N/A, N/A, N/A, N/A, N/A, N/A, N/A, N/A, N/A, ...</td>\n",
       "    </tr>\n",
       "    <tr>\n",
       "      <th>3</th>\n",
       "      <td>a1e-fragment01</td>\n",
       "      <td>[He, has, not, properly, investigated, the, ta...</td>\n",
       "      <td>[PNP, VHZ, XX0, AV0, VVN, AT0, NN1, POS, NN1, ...</td>\n",
       "      <td>[{'type': 'mrw/met', 'word_indices': [6]}]</td>\n",
       "      <td>[N/A, N/A, N/A, N/A, N/A, N/A, N/A, N/A, N/A, ...</td>\n",
       "    </tr>\n",
       "    <tr>\n",
       "      <th>4</th>\n",
       "      <td>a1e-fragment01</td>\n",
       "      <td>[The, 63-year-old, head, of, Pembridge, Invest...</td>\n",
       "      <td>[AT0, AJ0, NN1, PRF, NP0, NN2, PUN, PRP, DTQ, ...</td>\n",
       "      <td>[{'type': 'mrw/met', 'word_indices': [2]}, {'t...</td>\n",
       "      <td>[N/A, N/A, N/A, N/A, N/A, N/A, N/A, N/A, N/A, ...</td>\n",
       "    </tr>\n",
       "  </tbody>\n",
       "</table>\n",
       "</div>"
      ],
      "text/plain": [
       "    document_name                                              words  \\\n",
       "0  a1e-fragment01  [Latest, corporate, unbundler, reveals, laid-b...   \n",
       "1  a1e-fragment01                                  [By, FRANK, KANE]   \n",
       "2  a1e-fragment01  [IT, SEEMS, that, Roland, Franklin, ,, the, la...   \n",
       "3  a1e-fragment01  [He, has, not, properly, investigated, the, ta...   \n",
       "4  a1e-fragment01  [The, 63-year-old, head, of, Pembridge, Invest...   \n",
       "\n",
       "                                            pos_tags  \\\n",
       "0  [AJS, AJ0, NN1, VVZ, AJ0, NN1, PUN, NP0, NP0, ...   \n",
       "1                                [PRP, NP0, NP0-NN1]   \n",
       "2  [PNP, VVZ, CJT, NP0, NP0, PUN, AT0, AJS, NN1, ...   \n",
       "3  [PNP, VHZ, XX0, AV0, VVN, AT0, NN1, POS, NN1, ...   \n",
       "4  [AT0, AJ0, NN1, PRF, NP0, NN2, PUN, PRP, DTQ, ...   \n",
       "\n",
       "                                            met_type  \\\n",
       "0  [{'type': 'mrw/met', 'word_indices': [3]}, {'t...   \n",
       "1                                                 []   \n",
       "2  [{'type': 'mrw/met', 'word_indices': [16]}, {'...   \n",
       "3         [{'type': 'mrw/met', 'word_indices': [6]}]   \n",
       "4  [{'type': 'mrw/met', 'word_indices': [2]}, {'t...   \n",
       "\n",
       "                                                meta  \n",
       "0  [N/A, N/A, N/A, N/A, N/A, N/A, N/A, N/A, N/A, ...  \n",
       "1                                    [N/A, N/A, N/A]  \n",
       "2  [N/A, N/A, N/A, N/A, N/A, N/A, N/A, N/A, N/A, ...  \n",
       "3  [N/A, N/A, N/A, N/A, N/A, N/A, N/A, N/A, N/A, ...  \n",
       "4  [N/A, N/A, N/A, N/A, N/A, N/A, N/A, N/A, N/A, ...  "
      ]
     },
     "execution_count": 10,
     "metadata": {},
     "output_type": "execute_result"
    }
   ],
   "source": [
    "df = pd.read_parquet(\"0000.parquet\")  # Let pandas choose the engine\n",
    "df.head()"
   ]
  },
  {
   "cell_type": "code",
   "execution_count": 11,
   "id": "KbLDkTnVO_DK",
   "metadata": {
    "colab": {
     "base_uri": "https://localhost:8080/"
    },
    "id": "KbLDkTnVO_DK",
    "outputId": "71d39bee-852a-43ab-ebfb-c22a42779d3f"
   },
   "outputs": [
    {
     "data": {
      "text/plain": [
       "(8220, 4)"
      ]
     },
     "execution_count": 11,
     "metadata": {},
     "output_type": "execute_result"
    }
   ],
   "source": [
    "df = df.iloc[:, :-1]  # dropping the last column\n",
    "df = df[df['met_type'].apply(lambda x: len(x) > 0)] # keeping only sent with metaphors\n",
    "df.shape"
   ]
  },
  {
   "cell_type": "markdown",
   "id": "bde1f912",
   "metadata": {
    "id": "bde1f912"
   },
   "source": [
    "The dataset description can be found here: http://www.vismet.org/metcor/manual/index.php"
   ]
  },
  {
   "cell_type": "markdown",
   "id": "b622dbe6",
   "metadata": {
    "id": "b622dbe6"
   },
   "source": [
    "# RoBERTa token classification model"
   ]
  },
  {
   "cell_type": "markdown",
   "id": "b6a66b04",
   "metadata": {
    "id": "b6a66b04"
   },
   "source": [
    "## Preprocessing the data for the classification"
   ]
  },
  {
   "cell_type": "code",
   "execution_count": 12,
   "id": "T-VH4MU_MmJ4",
   "metadata": {
    "colab": {
     "base_uri": "https://localhost:8080/",
     "height": 379
    },
    "id": "T-VH4MU_MmJ4",
    "outputId": "3ff62493-fecf-4ea1-d96c-79966fe0dae2"
   },
   "outputs": [
    {
     "data": {
      "text/html": [
       "<div>\n",
       "<style scoped>\n",
       "    .dataframe tbody tr th:only-of-type {\n",
       "        vertical-align: middle;\n",
       "    }\n",
       "\n",
       "    .dataframe tbody tr th {\n",
       "        vertical-align: top;\n",
       "    }\n",
       "\n",
       "    .dataframe thead th {\n",
       "        text-align: right;\n",
       "    }\n",
       "</style>\n",
       "<table border=\"1\" class=\"dataframe\">\n",
       "  <thead>\n",
       "    <tr style=\"text-align: right;\">\n",
       "      <th></th>\n",
       "      <th>document_name</th>\n",
       "      <th>words</th>\n",
       "      <th>pos_tags</th>\n",
       "      <th>met_type</th>\n",
       "    </tr>\n",
       "  </thead>\n",
       "  <tbody>\n",
       "    <tr>\n",
       "      <th>0</th>\n",
       "      <td>a1e-fragment01</td>\n",
       "      <td>[Latest, corporate, unbundler, reveals, laid-b...</td>\n",
       "      <td>[AJS, AJ0, NN1, VVZ, AJ0, NN1, PUN, NP0, NP0, ...</td>\n",
       "      <td>[{'type': 'mrw/met', 'word_indices': [3]}, {'t...</td>\n",
       "    </tr>\n",
       "    <tr>\n",
       "      <th>2</th>\n",
       "      <td>a1e-fragment01</td>\n",
       "      <td>[IT, SEEMS, that, Roland, Franklin, ,, the, la...</td>\n",
       "      <td>[PNP, VVZ, CJT, NP0, NP0, PUN, AT0, AJS, NN1, ...</td>\n",
       "      <td>[{'type': 'mrw/met', 'word_indices': [16]}, {'...</td>\n",
       "    </tr>\n",
       "    <tr>\n",
       "      <th>3</th>\n",
       "      <td>a1e-fragment01</td>\n",
       "      <td>[He, has, not, properly, investigated, the, ta...</td>\n",
       "      <td>[PNP, VHZ, XX0, AV0, VVN, AT0, NN1, POS, NN1, ...</td>\n",
       "      <td>[{'type': 'mrw/met', 'word_indices': [6]}]</td>\n",
       "    </tr>\n",
       "    <tr>\n",
       "      <th>4</th>\n",
       "      <td>a1e-fragment01</td>\n",
       "      <td>[The, 63-year-old, head, of, Pembridge, Invest...</td>\n",
       "      <td>[AT0, AJ0, NN1, PRF, NP0, NN2, PUN, PRP, DTQ, ...</td>\n",
       "      <td>[{'type': 'mrw/met', 'word_indices': [2]}, {'t...</td>\n",
       "    </tr>\n",
       "    <tr>\n",
       "      <th>5</th>\n",
       "      <td>a1e-fragment01</td>\n",
       "      <td>[If, he, had, taken, his, own, rule, seriously...</td>\n",
       "      <td>[CJS, PNP, VHD, VVN, DPS, DT0, NN1, AV0, PUN, ...</td>\n",
       "      <td>[{'type': 'mrw/met', 'word_indices': [3]}, {'t...</td>\n",
       "    </tr>\n",
       "  </tbody>\n",
       "</table>\n",
       "</div>"
      ],
      "text/plain": [
       "    document_name                                              words  \\\n",
       "0  a1e-fragment01  [Latest, corporate, unbundler, reveals, laid-b...   \n",
       "2  a1e-fragment01  [IT, SEEMS, that, Roland, Franklin, ,, the, la...   \n",
       "3  a1e-fragment01  [He, has, not, properly, investigated, the, ta...   \n",
       "4  a1e-fragment01  [The, 63-year-old, head, of, Pembridge, Invest...   \n",
       "5  a1e-fragment01  [If, he, had, taken, his, own, rule, seriously...   \n",
       "\n",
       "                                            pos_tags  \\\n",
       "0  [AJS, AJ0, NN1, VVZ, AJ0, NN1, PUN, NP0, NP0, ...   \n",
       "2  [PNP, VVZ, CJT, NP0, NP0, PUN, AT0, AJS, NN1, ...   \n",
       "3  [PNP, VHZ, XX0, AV0, VVN, AT0, NN1, POS, NN1, ...   \n",
       "4  [AT0, AJ0, NN1, PRF, NP0, NN2, PUN, PRP, DTQ, ...   \n",
       "5  [CJS, PNP, VHD, VVN, DPS, DT0, NN1, AV0, PUN, ...   \n",
       "\n",
       "                                            met_type  \n",
       "0  [{'type': 'mrw/met', 'word_indices': [3]}, {'t...  \n",
       "2  [{'type': 'mrw/met', 'word_indices': [16]}, {'...  \n",
       "3         [{'type': 'mrw/met', 'word_indices': [6]}]  \n",
       "4  [{'type': 'mrw/met', 'word_indices': [2]}, {'t...  \n",
       "5  [{'type': 'mrw/met', 'word_indices': [3]}, {'t...  "
      ]
     },
     "execution_count": 12,
     "metadata": {},
     "output_type": "execute_result"
    }
   ],
   "source": [
    "# create a copy of df\n",
    "sent_df = df.copy()\n",
    "sent_df.head()"
   ]
  },
  {
   "cell_type": "code",
   "execution_count": 13,
   "id": "5f2Je9QaLS0r",
   "metadata": {
    "colab": {
     "base_uri": "https://localhost:8080/",
     "height": 379
    },
    "id": "5f2Je9QaLS0r",
    "outputId": "a2b66fb9-1ea7-422f-ea37-20358f2c2ea4"
   },
   "outputs": [
    {
     "data": {
      "text/html": [
       "<div>\n",
       "<style scoped>\n",
       "    .dataframe tbody tr th:only-of-type {\n",
       "        vertical-align: middle;\n",
       "    }\n",
       "\n",
       "    .dataframe tbody tr th {\n",
       "        vertical-align: top;\n",
       "    }\n",
       "\n",
       "    .dataframe thead th {\n",
       "        text-align: right;\n",
       "    }\n",
       "</style>\n",
       "<table border=\"1\" class=\"dataframe\">\n",
       "  <thead>\n",
       "    <tr style=\"text-align: right;\">\n",
       "      <th></th>\n",
       "      <th>document_name</th>\n",
       "      <th>words</th>\n",
       "      <th>pos_tags</th>\n",
       "      <th>labels</th>\n",
       "    </tr>\n",
       "  </thead>\n",
       "  <tbody>\n",
       "    <tr>\n",
       "      <th>0</th>\n",
       "      <td>a1e-fragment01</td>\n",
       "      <td>[Latest, corporate, unbundler, reveals, laid-b...</td>\n",
       "      <td>[AJS, AJ0, NN1, VVZ, AJ0, NN1, PUN, NP0, NP0, ...</td>\n",
       "      <td>[0, 0, 0, 1, 0, 1, 0, 0, 0, 0, 0, 0, 1, 0, 0, ...</td>\n",
       "    </tr>\n",
       "    <tr>\n",
       "      <th>2</th>\n",
       "      <td>a1e-fragment01</td>\n",
       "      <td>[IT, SEEMS, that, Roland, Franklin, ,, the, la...</td>\n",
       "      <td>[PNP, VVZ, CJT, NP0, NP0, PUN, AT0, AJS, NN1, ...</td>\n",
       "      <td>[0, 0, 0, 0, 0, 0, 0, 0, 0, 0, 0, 0, 0, 0, 0, ...</td>\n",
       "    </tr>\n",
       "    <tr>\n",
       "      <th>3</th>\n",
       "      <td>a1e-fragment01</td>\n",
       "      <td>[He, has, not, properly, investigated, the, ta...</td>\n",
       "      <td>[PNP, VHZ, XX0, AV0, VVN, AT0, NN1, POS, NN1, ...</td>\n",
       "      <td>[0, 0, 0, 0, 0, 0, 1, 0, 0, 0, 0]</td>\n",
       "    </tr>\n",
       "    <tr>\n",
       "      <th>4</th>\n",
       "      <td>a1e-fragment01</td>\n",
       "      <td>[The, 63-year-old, head, of, Pembridge, Invest...</td>\n",
       "      <td>[AT0, AJ0, NN1, PRF, NP0, NN2, PUN, PRP, DTQ, ...</td>\n",
       "      <td>[0, 0, 1, 0, 0, 0, 0, 1, 0, 0, 0, 0, 0, 1, 0, ...</td>\n",
       "    </tr>\n",
       "    <tr>\n",
       "      <th>5</th>\n",
       "      <td>a1e-fragment01</td>\n",
       "      <td>[If, he, had, taken, his, own, rule, seriously...</td>\n",
       "      <td>[CJS, PNP, VHD, VVN, DPS, DT0, NN1, AV0, PUN, ...</td>\n",
       "      <td>[0, 0, 0, 1, 0, 0, 0, 0, 0, 0, 0, 0, 0, 0, 0, ...</td>\n",
       "    </tr>\n",
       "  </tbody>\n",
       "</table>\n",
       "</div>"
      ],
      "text/plain": [
       "    document_name                                              words  \\\n",
       "0  a1e-fragment01  [Latest, corporate, unbundler, reveals, laid-b...   \n",
       "2  a1e-fragment01  [IT, SEEMS, that, Roland, Franklin, ,, the, la...   \n",
       "3  a1e-fragment01  [He, has, not, properly, investigated, the, ta...   \n",
       "4  a1e-fragment01  [The, 63-year-old, head, of, Pembridge, Invest...   \n",
       "5  a1e-fragment01  [If, he, had, taken, his, own, rule, seriously...   \n",
       "\n",
       "                                            pos_tags  \\\n",
       "0  [AJS, AJ0, NN1, VVZ, AJ0, NN1, PUN, NP0, NP0, ...   \n",
       "2  [PNP, VVZ, CJT, NP0, NP0, PUN, AT0, AJS, NN1, ...   \n",
       "3  [PNP, VHZ, XX0, AV0, VVN, AT0, NN1, POS, NN1, ...   \n",
       "4  [AT0, AJ0, NN1, PRF, NP0, NN2, PUN, PRP, DTQ, ...   \n",
       "5  [CJS, PNP, VHD, VVN, DPS, DT0, NN1, AV0, PUN, ...   \n",
       "\n",
       "                                              labels  \n",
       "0  [0, 0, 0, 1, 0, 1, 0, 0, 0, 0, 0, 0, 1, 0, 0, ...  \n",
       "2  [0, 0, 0, 0, 0, 0, 0, 0, 0, 0, 0, 0, 0, 0, 0, ...  \n",
       "3                  [0, 0, 0, 0, 0, 0, 1, 0, 0, 0, 0]  \n",
       "4  [0, 0, 1, 0, 0, 0, 0, 1, 0, 0, 0, 0, 0, 1, 0, ...  \n",
       "5  [0, 0, 0, 1, 0, 0, 0, 0, 0, 0, 0, 0, 0, 0, 0, ...  "
      ]
     },
     "execution_count": 13,
     "metadata": {},
     "output_type": "execute_result"
    }
   ],
   "source": [
    "# Create a 'labels' column in df with lists of 0s and 1s\n",
    "sent_df['labels'] = sent_df.apply(lambda row: [1 if any(idx in ann.get('word_indices', []) for ann in row['met_type']) else 0 for idx in range(len(row['words']))], axis=1)\n",
    "sent_df=sent_df.drop(columns=['met_type'])\n",
    "\n",
    "sent_df.head()"
   ]
  },
  {
   "cell_type": "code",
   "execution_count": 14,
   "id": "b3476027",
   "metadata": {
    "colab": {
     "base_uri": "https://localhost:8080/",
     "height": 362
    },
    "id": "b3476027",
    "outputId": "3c0e2f45-e374-4ed1-b88a-a08adc274e6c"
   },
   "outputs": [
    {
     "data": {
      "text/html": [
       "<div>\n",
       "<style scoped>\n",
       "    .dataframe tbody tr th:only-of-type {\n",
       "        vertical-align: middle;\n",
       "    }\n",
       "\n",
       "    .dataframe tbody tr th {\n",
       "        vertical-align: top;\n",
       "    }\n",
       "\n",
       "    .dataframe thead th {\n",
       "        text-align: right;\n",
       "    }\n",
       "</style>\n",
       "<table border=\"1\" class=\"dataframe\">\n",
       "  <thead>\n",
       "    <tr style=\"text-align: right;\">\n",
       "      <th></th>\n",
       "      <th>document_name</th>\n",
       "      <th>words</th>\n",
       "      <th>labels</th>\n",
       "      <th>simple_pos</th>\n",
       "    </tr>\n",
       "  </thead>\n",
       "  <tbody>\n",
       "    <tr>\n",
       "      <th>0</th>\n",
       "      <td>a1e-fragment01</td>\n",
       "      <td>[Latest, corporate, unbundler, reveals, laid-b...</td>\n",
       "      <td>[0, 0, 0, 1, 0, 1, 0, 0, 0, 0, 0, 0, 1, 0, 0, ...</td>\n",
       "      <td>[na, na, na, verb, na, noun, na, na, na, na, n...</td>\n",
       "    </tr>\n",
       "    <tr>\n",
       "      <th>2</th>\n",
       "      <td>a1e-fragment01</td>\n",
       "      <td>[IT, SEEMS, that, Roland, Franklin, ,, the, la...</td>\n",
       "      <td>[0, 0, 0, 0, 0, 0, 0, 0, 0, 0, 0, 0, 0, 0, 0, ...</td>\n",
       "      <td>[na, na, na, na, na, na, na, na, na, na, na, n...</td>\n",
       "    </tr>\n",
       "    <tr>\n",
       "      <th>3</th>\n",
       "      <td>a1e-fragment01</td>\n",
       "      <td>[He, has, not, properly, investigated, the, ta...</td>\n",
       "      <td>[0, 0, 0, 0, 0, 0, 1, 0, 0, 0, 0]</td>\n",
       "      <td>[na, na, na, na, na, na, noun, na, na, na, na]</td>\n",
       "    </tr>\n",
       "    <tr>\n",
       "      <th>4</th>\n",
       "      <td>a1e-fragment01</td>\n",
       "      <td>[The, 63-year-old, head, of, Pembridge, Invest...</td>\n",
       "      <td>[0, 0, 1, 0, 0, 0, 0, 1, 0, 0, 0, 0, 0, 1, 0, ...</td>\n",
       "      <td>[na, na, noun, na, na, na, na, other, na, na, ...</td>\n",
       "    </tr>\n",
       "    <tr>\n",
       "      <th>5</th>\n",
       "      <td>a1e-fragment01</td>\n",
       "      <td>[If, he, had, taken, his, own, rule, seriously...</td>\n",
       "      <td>[0, 0, 0, 1, 0, 0, 0, 0, 0, 0, 0, 0, 0, 0, 0, ...</td>\n",
       "      <td>[na, na, na, verb, na, na, na, na, na, na, na,...</td>\n",
       "    </tr>\n",
       "  </tbody>\n",
       "</table>\n",
       "</div>"
      ],
      "text/plain": [
       "    document_name                                              words  \\\n",
       "0  a1e-fragment01  [Latest, corporate, unbundler, reveals, laid-b...   \n",
       "2  a1e-fragment01  [IT, SEEMS, that, Roland, Franklin, ,, the, la...   \n",
       "3  a1e-fragment01  [He, has, not, properly, investigated, the, ta...   \n",
       "4  a1e-fragment01  [The, 63-year-old, head, of, Pembridge, Invest...   \n",
       "5  a1e-fragment01  [If, he, had, taken, his, own, rule, seriously...   \n",
       "\n",
       "                                              labels  \\\n",
       "0  [0, 0, 0, 1, 0, 1, 0, 0, 0, 0, 0, 0, 1, 0, 0, ...   \n",
       "2  [0, 0, 0, 0, 0, 0, 0, 0, 0, 0, 0, 0, 0, 0, 0, ...   \n",
       "3                  [0, 0, 0, 0, 0, 0, 1, 0, 0, 0, 0]   \n",
       "4  [0, 0, 1, 0, 0, 0, 0, 1, 0, 0, 0, 0, 0, 1, 0, ...   \n",
       "5  [0, 0, 0, 1, 0, 0, 0, 0, 0, 0, 0, 0, 0, 0, 0, ...   \n",
       "\n",
       "                                          simple_pos  \n",
       "0  [na, na, na, verb, na, noun, na, na, na, na, n...  \n",
       "2  [na, na, na, na, na, na, na, na, na, na, na, n...  \n",
       "3     [na, na, na, na, na, na, noun, na, na, na, na]  \n",
       "4  [na, na, noun, na, na, na, na, other, na, na, ...  \n",
       "5  [na, na, na, verb, na, na, na, na, na, na, na,...  "
      ]
     },
     "execution_count": 14,
     "metadata": {},
     "output_type": "execute_result"
    }
   ],
   "source": [
    "def get_simplified_metaphor_pos(pos_tag, label):\n",
    "    if label == 0:\n",
    "        return \"na\"\n",
    "    else: # label is 1 (metaphorical)\n",
    "        if pos_tag.startswith(\"V\"):\n",
    "            return \"verb\"\n",
    "        elif pos_tag.startswith(\"N\"):\n",
    "            return \"noun\"\n",
    "        elif pos_tag.startswith(\"AJ\"):\n",
    "            return \"adj\"\n",
    "        else:\n",
    "            return \"other\"\n",
    "\n",
    "# Apply the function element-wise to the lists of pos_tags and labels\n",
    "sent_df['simple_pos'] = sent_df.apply(\n",
    "    lambda row: [get_simplified_metaphor_pos(pos, label) for pos, label in zip(row['pos_tags'], row['labels'])],\n",
    "    axis=1\n",
    ")\n",
    "\n",
    "sent_df = sent_df.drop(columns=['pos_tags'])\n",
    "\n",
    "# Display the first few rows with the new 'simple_pos' column\n",
    "sent_df.head()"
   ]
  },
  {
   "cell_type": "code",
   "execution_count": 15,
   "id": "73c00153",
   "metadata": {
    "colab": {
     "base_uri": "https://localhost:8080/"
    },
    "id": "73c00153",
    "outputId": "c13edfe2-c0b5-4000-a1e9-30ec08f9abed"
   },
   "outputs": [
    {
     "name": "stdout",
     "output_type": "stream",
     "text": [
      "Average sentence length: 21.18 tokens\n",
      "Max sentence length: 127 tokens\n",
      "Min sentence length: 1 tokens\n"
     ]
    }
   ],
   "source": [
    "# average sentence length\n",
    "print(f\"Average sentence length: {sent_df['words'].apply(len).mean():.2f} tokens\")\n",
    "# max and min\n",
    "print(f\"Max sentence length: {sent_df['words'].apply(len).max()} tokens\")\n",
    "print(f\"Min sentence length: {sent_df['words'].apply(len).min()} tokens\")"
   ]
  },
  {
   "cell_type": "code",
   "execution_count": 16,
   "id": "I6V2Y5oq7C2D",
   "metadata": {
    "colab": {
     "base_uri": "https://localhost:8080/"
    },
    "id": "I6V2Y5oq7C2D",
    "outputId": "9dbb111f-86db-4f08-dc06-eba379f17ba2"
   },
   "outputs": [
    {
     "data": {
      "text/plain": [
       "(8193, 4)"
      ]
     },
     "execution_count": 16,
     "metadata": {},
     "output_type": "execute_result"
    }
   ],
   "source": [
    "# keep sentences with at least 3 words\n",
    "sent_df = sent_df[sent_df['words'].apply(len) >= 3]\n",
    "sent_df.shape"
   ]
  },
  {
   "cell_type": "code",
   "execution_count": 17,
   "id": "eWxD-N5NqJaj",
   "metadata": {
    "id": "eWxD-N5NqJaj"
   },
   "outputs": [],
   "source": [
    "# Initialize tokenizer\n",
    "tokenizer = RobertaTokenizerFast.from_pretrained(\"distilroberta-base\", add_prefix_space=True)"
   ]
  },
  {
   "cell_type": "code",
   "execution_count": 18,
   "id": "kHOMe8-WJuIq",
   "metadata": {
    "id": "kHOMe8-WJuIq"
   },
   "outputs": [],
   "source": [
    "class MetaphorSentenceDataset(Dataset):\n",
    "    def __init__(self, df, tokenizer, max_len=64):\n",
    "        self.df = df.reset_index(drop=True)\n",
    "        self.tokenizer = tokenizer\n",
    "        self.max_len = max_len\n",
    "\n",
    "        # Encodings for Trainer\n",
    "        self.encodings = {\n",
    "            'input_ids': [],\n",
    "            'attention_mask': [],\n",
    "            'labels': []\n",
    "        }\n",
    "\n",
    "        # Separate lists to use later for evaluation\n",
    "        self.word_ids_list = []\n",
    "        self.simple_pos_list = []\n",
    "\n",
    "        # POS mapping (simplified)\n",
    "        self.simple_pos_mapping = {'na': 'na', 'verb': 'verb', 'noun': 'noun',\n",
    "                                   'adj': 'adj', 'other': 'other', 'SPECIAL': 'SPECIAL',\n",
    "                                   'SUBWORD': 'SUBWORD', 'UNKNOWN_POS': 'UNKNOWN_POS', 'PAD': 'PAD'}\n",
    "\n",
    "        for idx, row in self.df.iterrows():\n",
    "            words = [str(w) for w in row[\"words\"]]\n",
    "            labels = [int(l) for l in row[\"labels\"]]\n",
    "            simple_pos = [str(p) for p in row[\"simple_pos\"]]\n",
    "\n",
    "            encoding = self.tokenizer(\n",
    "                words,\n",
    "                is_split_into_words=True,\n",
    "                padding=\"max_length\",\n",
    "                truncation=True,\n",
    "                max_length=self.max_len,\n",
    "                return_tensors=\"pt\"\n",
    "            )\n",
    "\n",
    "            word_ids = encoding.word_ids(batch_index=0)\n",
    "            aligned_labels = []\n",
    "            aligned_pos = []\n",
    "\n",
    "            prev_word_id = None\n",
    "            for i, word_id in enumerate(word_ids):\n",
    "                if word_id is None:\n",
    "                    aligned_labels.append(-100)\n",
    "                    aligned_pos.append(\"SPECIAL\")\n",
    "                elif word_id != prev_word_id:\n",
    "                    aligned_labels.append(labels[word_id])\n",
    "                    aligned_pos.append(simple_pos[word_id])\n",
    "                    prev_word_id = word_id\n",
    "                else:\n",
    "                    aligned_labels.append(-100)\n",
    "                    aligned_pos.append(\"SUBWORD\")\n",
    "\n",
    "            # Convert to tensors\n",
    "            self.encodings['input_ids'].append(encoding['input_ids'].squeeze(0))\n",
    "            self.encodings['attention_mask'].append(encoding['attention_mask'].squeeze(0))\n",
    "            self.encodings['labels'].append(torch.tensor(aligned_labels, dtype=torch.long))\n",
    "\n",
    "            # Save for evaluation\n",
    "            self.word_ids_list.append(word_ids)\n",
    "            self.simple_pos_list.append(aligned_pos)\n",
    "\n",
    "    def __len__(self):\n",
    "        return len(self.encodings['input_ids'])\n",
    "\n",
    "    def __getitem__(self, idx):\n",
    "        # Support both single index and batch (list/ndarray) index\n",
    "        if isinstance(idx, (int, np.integer)):\n",
    "            return {key: self.encodings[key][idx] for key in self.encodings}\n",
    "        # If idx is a list, tuple, or np.ndarray, return a batch\n",
    "        if isinstance(idx, (list, tuple, np.ndarray)):\n",
    "            return {key: [self.encodings[key][i] for i in idx] for key in self.encodings}\n",
    "        raise TypeError(f\"Invalid index type: {type(idx)}\")\n"
   ]
  },
  {
   "cell_type": "code",
   "execution_count": 19,
   "id": "cz10QHV5SUjW",
   "metadata": {
    "id": "cz10QHV5SUjW"
   },
   "outputs": [],
   "source": [
    "# # Example alignment:\n",
    "# Original words: [\"running\", \"quickly\", \"home\"]\n",
    "# Original labels: [1, 0, 0]  # \"running\" is metaphorical\n",
    "\n",
    "# # After tokenization:\n",
    "# Tokens: [\"<s>\", \"running\", \"quickly\", \"home\", \"</s>\", \"<pad>\", \"<pad>\"]\n",
    "# Labels: [-100, 1, 0, 0, -100, -100, -100]\n",
    "# #        ^     ^  ^  ^   ^     ^      ^\n",
    "# #        |     |  |  |   |     |      └─ padding\n",
    "# #        |     |  |  |   |     └─ padding\n",
    "# #        |     |  |  |   └─ end token (ignore)\n",
    "# #        |     |  |  └─ \"home\" (literal)\n",
    "# #        |     |  └─ \"quickly\" (literal)\n",
    "# #        |     └─ \"running\" (metaphor)\n",
    "# #        └─ start token (ignore)"
   ]
  },
  {
   "cell_type": "markdown",
   "id": "b43aaf49",
   "metadata": {
    "id": "b43aaf49"
   },
   "source": [
    "## Train-test split"
   ]
  },
  {
   "cell_type": "code",
   "execution_count": 20,
   "id": "TF3EJkqXj0_j",
   "metadata": {
    "colab": {
     "base_uri": "https://localhost:8080/",
     "height": 362
    },
    "id": "TF3EJkqXj0_j",
    "outputId": "ed03ca80-f7a0-4b5f-df95-180de45025de"
   },
   "outputs": [
    {
     "data": {
      "text/html": [
       "<div>\n",
       "<style scoped>\n",
       "    .dataframe tbody tr th:only-of-type {\n",
       "        vertical-align: middle;\n",
       "    }\n",
       "\n",
       "    .dataframe tbody tr th {\n",
       "        vertical-align: top;\n",
       "    }\n",
       "\n",
       "    .dataframe thead th {\n",
       "        text-align: right;\n",
       "    }\n",
       "</style>\n",
       "<table border=\"1\" class=\"dataframe\">\n",
       "  <thead>\n",
       "    <tr style=\"text-align: right;\">\n",
       "      <th></th>\n",
       "      <th>document_name</th>\n",
       "      <th>words</th>\n",
       "      <th>labels</th>\n",
       "      <th>simple_pos</th>\n",
       "    </tr>\n",
       "  </thead>\n",
       "  <tbody>\n",
       "    <tr>\n",
       "      <th>0</th>\n",
       "      <td>a1e-fragment01</td>\n",
       "      <td>[Latest, corporate, unbundler, reveals, laid-b...</td>\n",
       "      <td>[0, 0, 0, 1, 0, 1, 0, 0, 0, 0, 0, 0, 1, 0, 0, ...</td>\n",
       "      <td>[na, na, na, verb, na, noun, na, na, na, na, n...</td>\n",
       "    </tr>\n",
       "    <tr>\n",
       "      <th>2</th>\n",
       "      <td>a1e-fragment01</td>\n",
       "      <td>[IT, SEEMS, that, Roland, Franklin, ,, the, la...</td>\n",
       "      <td>[0, 0, 0, 0, 0, 0, 0, 0, 0, 0, 0, 0, 0, 0, 0, ...</td>\n",
       "      <td>[na, na, na, na, na, na, na, na, na, na, na, n...</td>\n",
       "    </tr>\n",
       "    <tr>\n",
       "      <th>3</th>\n",
       "      <td>a1e-fragment01</td>\n",
       "      <td>[He, has, not, properly, investigated, the, ta...</td>\n",
       "      <td>[0, 0, 0, 0, 0, 0, 1, 0, 0, 0, 0]</td>\n",
       "      <td>[na, na, na, na, na, na, noun, na, na, na, na]</td>\n",
       "    </tr>\n",
       "    <tr>\n",
       "      <th>4</th>\n",
       "      <td>a1e-fragment01</td>\n",
       "      <td>[The, 63-year-old, head, of, Pembridge, Invest...</td>\n",
       "      <td>[0, 0, 1, 0, 0, 0, 0, 1, 0, 0, 0, 0, 0, 1, 0, ...</td>\n",
       "      <td>[na, na, noun, na, na, na, na, other, na, na, ...</td>\n",
       "    </tr>\n",
       "    <tr>\n",
       "      <th>5</th>\n",
       "      <td>a1e-fragment01</td>\n",
       "      <td>[If, he, had, taken, his, own, rule, seriously...</td>\n",
       "      <td>[0, 0, 0, 1, 0, 0, 0, 0, 0, 0, 0, 0, 0, 0, 0, ...</td>\n",
       "      <td>[na, na, na, verb, na, na, na, na, na, na, na,...</td>\n",
       "    </tr>\n",
       "  </tbody>\n",
       "</table>\n",
       "</div>"
      ],
      "text/plain": [
       "    document_name                                              words  \\\n",
       "0  a1e-fragment01  [Latest, corporate, unbundler, reveals, laid-b...   \n",
       "2  a1e-fragment01  [IT, SEEMS, that, Roland, Franklin, ,, the, la...   \n",
       "3  a1e-fragment01  [He, has, not, properly, investigated, the, ta...   \n",
       "4  a1e-fragment01  [The, 63-year-old, head, of, Pembridge, Invest...   \n",
       "5  a1e-fragment01  [If, he, had, taken, his, own, rule, seriously...   \n",
       "\n",
       "                                              labels  \\\n",
       "0  [0, 0, 0, 1, 0, 1, 0, 0, 0, 0, 0, 0, 1, 0, 0, ...   \n",
       "2  [0, 0, 0, 0, 0, 0, 0, 0, 0, 0, 0, 0, 0, 0, 0, ...   \n",
       "3                  [0, 0, 0, 0, 0, 0, 1, 0, 0, 0, 0]   \n",
       "4  [0, 0, 1, 0, 0, 0, 0, 1, 0, 0, 0, 0, 0, 1, 0, ...   \n",
       "5  [0, 0, 0, 1, 0, 0, 0, 0, 0, 0, 0, 0, 0, 0, 0, ...   \n",
       "\n",
       "                                          simple_pos  \n",
       "0  [na, na, na, verb, na, noun, na, na, na, na, n...  \n",
       "2  [na, na, na, na, na, na, na, na, na, na, na, n...  \n",
       "3     [na, na, na, na, na, na, noun, na, na, na, na]  \n",
       "4  [na, na, noun, na, na, na, na, other, na, na, ...  \n",
       "5  [na, na, na, verb, na, na, na, na, na, na, na,...  "
      ]
     },
     "execution_count": 20,
     "metadata": {},
     "output_type": "execute_result"
    }
   ],
   "source": [
    "sent_df.head()"
   ]
  },
  {
   "cell_type": "code",
   "execution_count": 21,
   "id": "2U2MAKRyVJlY",
   "metadata": {
    "colab": {
     "base_uri": "https://localhost:8080/"
    },
    "id": "2U2MAKRyVJlY",
    "outputId": "219bd8c1-a78d-4b5c-e9d3-4e8589e83a36"
   },
   "outputs": [
    {
     "name": "stdout",
     "output_type": "stream",
     "text": [
      "Train size (all sentences): 5725\n",
      "Val size (all sentences): 1416\n",
      "Test size (all sentences): 1052\n"
     ]
    }
   ],
   "source": [
    "# Split by documents to prevent leakage\n",
    "doc_ids_all = sent_df[\"document_name\"].unique()\n",
    "\n",
    "# First split into train and temp (validation + test) document IDs\n",
    "train_ids, temp_ids = train_test_split(doc_ids_all, test_size=0.3, random_state=42) # e.g., 70% train, 30% temp\n",
    "\n",
    "# Split temp into validation and test document IDs\n",
    "val_ids, test_ids = train_test_split(temp_ids, test_size=0.5, random_state=42) # e.g., 15% validation, 15% test\n",
    "\n",
    "# Create sentence-level DataFrames for train, validation, and test using filtered document IDs\n",
    "train_df_all = sent_df[sent_df[\"document_name\"].isin(train_ids)].copy().reset_index(drop=True)\n",
    "val_df_all   = sent_df[sent_df[\"document_name\"].isin(val_ids)].copy().reset_index(drop=True)\n",
    "test_df_all  = sent_df[sent_df[\"document_name\"].isin(test_ids)].copy().reset_index(drop=True)\n",
    "\n",
    "print(f\"Train size (all sentences): {len(train_df_all)}\")\n",
    "print(f\"Val size (all sentences): {len(val_df_all)}\")\n",
    "print(f\"Test size (all sentences): {len(test_df_all)}\")"
   ]
  },
  {
   "cell_type": "code",
   "execution_count": 22,
   "id": "Lq9DKhCiv-b6",
   "metadata": {
    "colab": {
     "base_uri": "https://localhost:8080/"
    },
    "id": "Lq9DKhCiv-b6",
    "outputId": "b3ce9363-d23b-4b08-8e39-f7b155ec62cd"
   },
   "outputs": [
    {
     "name": "stdout",
     "output_type": "stream",
     "text": [
      "Train size: 2000\n",
      "Val size: 500\n",
      "Test size: 500\n"
     ]
    }
   ],
   "source": [
    "# Sample from the filtered and split dataframes\n",
    "train_df_sampled = train_df_all.sample(n=2000, random_state=42).reset_index(drop=True)\n",
    "val_df_sampled   = val_df_all.sample(n=500, random_state=42).reset_index(drop=True)\n",
    "test_df_sampled  = test_df_all.sample(n=500, random_state=42).reset_index(drop=True)\n",
    "\n",
    "print(f\"Train size: {len(train_df_sampled)}\")\n",
    "print(f\"Val size: {len(val_df_sampled)}\")\n",
    "print(f\"Test size: {len(test_df_sampled)}\")\n",
    "\n",
    "# Create the datasets from the sampled dataframes\n",
    "train_dataset = MetaphorSentenceDataset(train_df_sampled, tokenizer, max_len=32)\n",
    "val_dataset = MetaphorSentenceDataset(val_df_sampled, tokenizer, max_len=32)\n",
    "test_dataset = MetaphorSentenceDataset(test_df_sampled, tokenizer, max_len=32)\n",
    "\n",
    "\n",
    "train_dataset_all = MetaphorSentenceDataset(train_df_all, tokenizer, max_len=32)\n",
    "val_dataset_all = MetaphorSentenceDataset(val_df_all, tokenizer, max_len=32)\n",
    "test_dataset_all = MetaphorSentenceDataset(test_df_all, tokenizer, max_len=32)"
   ]
  },
  {
   "cell_type": "code",
   "execution_count": 23,
   "id": "z2ETEfyFA8Z2",
   "metadata": {
    "colab": {
     "base_uri": "https://localhost:8080/"
    },
    "id": "z2ETEfyFA8Z2",
    "outputId": "70778a18-5acb-4459-a334-8a7a9e1e4811"
   },
   "outputs": [
    {
     "data": {
      "text/plain": [
       "{'input_ids': tensor([   0,  152,  936,   34, 2504,    7,    5,  987,  479,    2,    1,    1,\n",
       "            1,    1,    1,    1,    1,    1,    1,    1,    1,    1,    1,    1,\n",
       "            1,    1,    1,    1,    1,    1,    1,    1]),\n",
       " 'attention_mask': tensor([1, 1, 1, 1, 1, 1, 1, 1, 1, 1, 0, 0, 0, 0, 0, 0, 0, 0, 0, 0, 0, 0, 0, 0,\n",
       "         0, 0, 0, 0, 0, 0, 0, 0]),\n",
       " 'labels': tensor([-100,    1,    0,    0,    1,    1,    0,    0,    0, -100, -100, -100,\n",
       "         -100, -100, -100, -100, -100, -100, -100, -100, -100, -100, -100, -100,\n",
       "         -100, -100, -100, -100, -100, -100, -100, -100])}"
      ]
     },
     "execution_count": 23,
     "metadata": {},
     "output_type": "execute_result"
    }
   ],
   "source": [
    "# display test_dataset\n",
    "test_dataset[0]"
   ]
  },
  {
   "cell_type": "markdown",
   "id": "ZjidKaJpRoqp",
   "metadata": {
    "id": "ZjidKaJpRoqp"
   },
   "source": [
    "## Baseline Model "
   ]
  },
  {
   "cell_type": "code",
   "execution_count": 25,
   "id": "da8d3195",
   "metadata": {
    "colab": {
     "base_uri": "https://localhost:8080/",
     "height": 793
    },
    "id": "da8d3195",
    "outputId": "8b047143-7f5c-436d-e4c8-c4cd1255f6bd"
   },
   "outputs": [
    {
     "name": "stdout",
     "output_type": "stream",
     "text": [
      "{'train_runtime': 328.6474, 'train_samples_per_second': 18.257, 'train_steps_per_second': 0.292, 'train_loss': 0.29806752999623615, 'epoch': 3.0}\n"
     ]
    },
    {
     "data": {
      "text/plain": [
       "TrainOutput(global_step=96, training_loss=0.29806752999623615, metrics={'train_runtime': 328.6474, 'train_samples_per_second': 18.257, 'train_steps_per_second': 0.292, 'train_loss': 0.29806752999623615, 'epoch': 3.0})"
      ]
     },
     "execution_count": 25,
     "metadata": {},
     "output_type": "execute_result"
    }
   ],
   "source": [
    "model = RobertaForTokenClassification.from_pretrained(\"distilroberta-base\", num_labels=2)\n",
    "\n",
    "training_args = TrainingArguments(\n",
    "    output_dir=\"./metaphor_model_fast\",\n",
    "    learning_rate=2e-5,   # learning rate \n",
    "    per_device_train_batch_size=64,  \n",
    "    per_device_eval_batch_size=64, \n",
    "    num_train_epochs=3, \n",
    "    weight_decay=0.01,  # to prevent overfitting     \n",
    "    dataloader_num_workers=4,  # parallel data loading\n",
    "    metric_for_best_model=\"eval_f1\", # to use in EarlyStoppingCallback\n",
    "    fp16=True,            # Mixed precision for speed\n",
    "    remove_unused_columns=False, # Added to prevent Trainer from trying to remove columns\n",
    ")\n",
    "\n",
    "\n",
    "def compute_metrics(eval_pred):\n",
    "\n",
    "    predictions, labels = eval_pred\n",
    "    predictions = predictions.argmax(axis=-1)\n",
    "\n",
    "    # Remove ignored index (our -100 values)\n",
    "    predictions = predictions[labels != -100].flatten()\n",
    "    labels = labels[labels != -100].flatten()\n",
    "\n",
    "    precision, recall, f1, _ = precision_recall_fscore_support(labels, predictions, average='weighted')\n",
    "    acc = accuracy_score(labels, predictions)\n",
    "\n",
    "    return {\n",
    "        'accuracy': acc,\n",
    "        'f1': f1,\n",
    "        'precision': precision,\n",
    "        'recall': recall\n",
    "    }\n",
    "\n",
    "\n",
    "trainer = Trainer( # Use the standard Trainer here\n",
    "    model=model,\n",
    "    args=training_args,\n",
    "    train_dataset=train_dataset, # Use the tokenized dataset\n",
    "    eval_dataset=test_dataset,   # Use the tokenized dataset\n",
    "    tokenizer=tokenizer,\n",
    "    compute_metrics=compute_metrics  # from before\n",
    ")\n",
    "\n",
    "trainer.train()"
   ]
  },
  {
   "cell_type": "code",
   "execution_count": 26,
   "id": "06de69c3",
   "metadata": {
    "id": "06de69c3"
   },
   "outputs": [
    {
     "name": "stdout",
     "output_type": "stream",
     "text": [
      "Overall Performance:\n",
      "              precision    recall  f1-score   support\n",
      "\n",
      "     Literal       0.92      0.96      0.94      7571\n",
      "    Metaphor       0.72      0.56      0.63      1352\n",
      "\n",
      "    accuracy                           0.90      8923\n",
      "   macro avg       0.82      0.76      0.79      8923\n",
      "weighted avg       0.89      0.90      0.90      8923\n",
      "\n"
     ]
    }
   ],
   "source": [
    "y_true = [label for labels in train_df_all[\"labels\"] for label in labels]\n",
    "# Simple overall performance\n",
    "predictions = trainer.predict(test_dataset)\n",
    "y_pred_logits = predictions.predictions\n",
    "y_pred = y_pred_logits.argmax(axis=-1)\n",
    "\n",
    "# Filter out ignored tokens\n",
    "mask = predictions.label_ids != -100\n",
    "y_pred_clean = y_pred[mask]\n",
    "y_true_clean = predictions.label_ids[mask]\n",
    "\n",
    "print(\"Overall Performance:\")\n",
    "print(classification_report(y_true_clean, y_pred_clean, target_names=['Literal', 'Metaphor']))"
   ]
  },
  {
   "cell_type": "markdown",
   "id": "RMeq_e0ldof6",
   "metadata": {
    "id": "RMeq_e0ldof6"
   },
   "source": [
    "## Class balancing"
   ]
  },
  {
   "cell_type": "code",
   "execution_count": 27,
   "id": "d28b1020",
   "metadata": {
    "id": "d28b1020"
   },
   "outputs": [
    {
     "name": "stdout",
     "output_type": "stream",
     "text": [
      "Class distribution in training data:\n",
      "Literal (0): 100929 tokens (85.0%)\n",
      "Metaphor (1): 17798 tokens (15.0%)\n",
      "Enhanced class weights: Literal=0.59, Metaphor=3.34\n"
     ]
    }
   ],
   "source": [
    "# Calculate class weights for imbalanced data\n",
    "train_labels_flat = [label for labels in train_df_all[\"labels\"] for label in labels]\n",
    "unique_classes = np.unique(train_labels_flat)\n",
    "class_weights = compute_class_weight('balanced', classes=unique_classes, y=train_labels_flat)\n",
    "\n",
    "print(f\"Class distribution in training data:\")\n",
    "print(f\"Literal (0): {train_labels_flat.count(0)} tokens ({100*train_labels_flat.count(0)/len(train_labels_flat):.1f}%)\")\n",
    "print(f\"Metaphor (1): {train_labels_flat.count(1)} tokens ({100*train_labels_flat.count(1)/len(train_labels_flat):.1f}%)\")\n",
    "print(f\"Enhanced class weights: Literal={class_weights[0]:.2f}, Metaphor={class_weights[1]:.2f}\")\n"
   ]
  },
  {
   "cell_type": "markdown",
   "id": "6d5b4e48",
   "metadata": {
    "id": "6d5b4e48"
   },
   "source": [
    "### Custom Trainer with Weighted Loss"
   ]
  },
  {
   "cell_type": "code",
   "execution_count": 28,
   "id": "bbb7995d",
   "metadata": {
    "id": "bbb7995d"
   },
   "outputs": [],
   "source": [
    "class WeightedTrainer(Trainer):\n",
    "    def __init__(self, class_weights, *args, **kwargs):\n",
    "        super().__init__(*args, **kwargs)\n",
    "        self.class_weights = torch.FloatTensor(class_weights)\n",
    "\n",
    "    def compute_loss(self, model, inputs, return_outputs=False, **kwargs):\n",
    "        #Enhanced compute_loss with weighted cross entropy for class imbalance\n",
    "        expected_keys = [\"input_ids\", \"attention_mask\", \"labels\"]\n",
    "        model_inputs = {key: inputs[key] for key in expected_keys if key in inputs}\n",
    "\n",
    "        labels = model_inputs.get(\"labels\") # Get labels separately as they are used in loss calculation\n",
    "\n",
    "        # Pass expected inputs to the model\n",
    "        outputs = model(**model_inputs)\n",
    "        logits = outputs.get(\"logits\")\n",
    "\n",
    "        # Move class weights to correct device\n",
    "        device = logits.device\n",
    "        class_weights_device = self.class_weights.to(device)\n",
    "\n",
    "        # Create weighted cross entropy loss\n",
    "        loss_fct = nn.CrossEntropyLoss(weight=class_weights_device, ignore_index=-100)\n",
    "        loss = loss_fct(logits.view(-1, self.model.config.num_labels), labels.view(-1))\n",
    "\n",
    "        return (loss, outputs) if return_outputs else loss"
   ]
  },
  {
   "cell_type": "code",
   "execution_count": 29,
   "id": "d7579356",
   "metadata": {
    "id": "d7579356"
   },
   "outputs": [],
   "source": [
    "# Enhanced compute metrics with detailed class-specific metrics\n",
    "def compute_metrics_enhanced(eval_pred):\n",
    "    predictions, labels = eval_pred\n",
    "    predictions = predictions.argmax(axis=-1)\n",
    "\n",
    "    # Remove ignored index (-100 values)\n",
    "    predictions = predictions[labels != -100].flatten()\n",
    "    labels = labels[labels != -100].flatten()\n",
    "\n",
    "    # Calculate metrics for both classes\n",
    "    precision, recall, f1, _ = precision_recall_fscore_support(labels, predictions, average=None, zero_division=0)\n",
    "    weighted_precision, weighted_recall, weighted_f1, _ = precision_recall_fscore_support(labels, predictions, average='weighted', zero_division=0)\n",
    "    acc = accuracy_score(labels, predictions)\n",
    "\n",
    "    return {\n",
    "        'accuracy': acc,\n",
    "        'f1': weighted_f1,\n",
    "        'precision': weighted_precision,\n",
    "        'recall': weighted_recall,\n",
    "        'literal_f1': f1[0] if len(f1) > 0 else 0.0,\n",
    "        'metaphor_f1': f1[1] if len(f1) > 1 else 0.0,\n",
    "        'literal_precision': precision[0] if len(precision) > 0 else 0.0,\n",
    "        'metaphor_precision': precision[1] if len(precision) > 1 else 0.0,\n",
    "        'literal_recall': recall[0] if len(recall) > 0 else 0.0,\n",
    "        'metaphor_recall': recall[1] if len(recall) > 1 else 0.0,\n",
    "    }"
   ]
  },
  {
   "cell_type": "code",
   "execution_count": 30,
   "id": "a977a250",
   "metadata": {
    "id": "a977a250"
   },
   "outputs": [
    {
     "name": "stdout",
     "output_type": "stream",
     "text": [
      "Training class-balanced RoBERTa model\n",
      "{'train_runtime': 331.6105, 'train_samples_per_second': 18.094, 'train_steps_per_second': 0.289, 'train_loss': 0.41568219661712646, 'epoch': 3.0}\n",
      "Class-balanced training completed with enhanced metaphor detection\n"
     ]
    }
   ],
   "source": [
    "# Create model and training configuration\n",
    "model_balanced = RobertaForTokenClassification.from_pretrained(\"distilroberta-base\", num_labels=2)\n",
    "\n",
    "training_args_bal = TrainingArguments(\n",
    "    output_dir=\"./metaphor_model_fast_balanced\",\n",
    "    learning_rate=2e-5,\n",
    "    per_device_train_batch_size=64,\n",
    "    per_device_eval_batch_size=64,\n",
    "    num_train_epochs=3,\n",
    "    weight_decay=0.01,\n",
    "    dataloader_num_workers=4,\n",
    "    fp16=True,\n",
    "    remove_unused_columns=False,\n",
    ")\n",
    "\n",
    "\n",
    "\n",
    "# Initialize weighted trainer\n",
    "trainer_balanced = WeightedTrainer(\n",
    "    class_weights=class_weights,\n",
    "    model=model_balanced,\n",
    "    args=training_args_bal,\n",
    "    train_dataset=train_dataset,\n",
    "    eval_dataset=test_dataset,\n",
    "    tokenizer=tokenizer,\n",
    "    compute_metrics=compute_metrics_enhanced,\n",
    ")\n",
    "\n",
    "# Train the balanced model\n",
    "print(\"Training class-balanced RoBERTa model\")\n",
    "trainer_balanced.train()\n",
    "\n",
    "print(\"Class-balanced training completed with enhanced metaphor detection\")"
   ]
  },
  {
   "cell_type": "code",
   "execution_count": 31,
   "id": "s8PNO5hjGy8j",
   "metadata": {
    "id": "s8PNO5hjGy8j"
   },
   "outputs": [
    {
     "name": "stdout",
     "output_type": "stream",
     "text": [
      "Overall Performance (Class-Balanced Model):\n",
      "              precision    recall  f1-score   support\n",
      "\n",
      "     Literal       0.97      0.84      0.90      7571\n",
      "    Metaphor       0.49      0.87      0.63      1352\n",
      "\n",
      "    accuracy                           0.84      8923\n",
      "   macro avg       0.73      0.86      0.76      8923\n",
      "weighted avg       0.90      0.84      0.86      8923\n",
      "\n",
      "\n",
      " Classification Report for 'Noun vs. Literal'\n",
      "              precision    recall  f1-score   support\n",
      "\n",
      "     Literal       0.99      0.84      0.91      7571\n",
      "    Metaphor       0.16      0.74      0.26       311\n",
      "\n",
      "    accuracy                           0.83      7882\n",
      "   macro avg       0.57      0.79      0.58      7882\n",
      "weighted avg       0.95      0.83      0.88      7882\n",
      "\n",
      "\n",
      " Classification Report for 'Adjective vs. Literal'\n",
      "              precision    recall  f1-score   support\n",
      "\n",
      "     Literal       1.00      0.84      0.91      7571\n",
      "    Metaphor       0.07      0.77      0.13       124\n",
      "\n",
      "    accuracy                           0.84      7695\n",
      "   macro avg       0.53      0.80      0.52      7695\n",
      "weighted avg       0.98      0.84      0.90      7695\n",
      "\n",
      "\n",
      " Classification Report for 'Verb vs. Literal'\n",
      "              precision    recall  f1-score   support\n",
      "\n",
      "     Literal       1.00      0.84      0.91      7571\n",
      "    Metaphor       0.21      0.94      0.34       342\n",
      "\n",
      "    accuracy                           0.84      7913\n",
      "   macro avg       0.60      0.89      0.63      7913\n",
      "weighted avg       0.96      0.84      0.89      7913\n",
      "\n",
      "\n",
      " Classification Report for 'Other vs. Literal'\n",
      "              precision    recall  f1-score   support\n",
      "\n",
      "     Literal       0.99      0.84      0.91      7571\n",
      "    Metaphor       0.30      0.93      0.46       575\n",
      "\n",
      "    accuracy                           0.84      8146\n",
      "   macro avg       0.65      0.88      0.68      8146\n",
      "weighted avg       0.94      0.84      0.88      8146\n",
      "\n"
     ]
    }
   ],
   "source": [
    "# Evaluate the balanced model\n",
    "predictions = trainer_balanced.predict(test_dataset)\n",
    "y_pred_logits = predictions.predictions\n",
    "y_pred = y_pred_logits.argmax(axis=-1)\n",
    "mask = predictions.label_ids != -100  # Only consider non-ignored tokens\n",
    "y_true_clean = predictions.label_ids[mask].flatten()\n",
    "y_pred_clean = y_pred[mask].flatten()\n",
    "\n",
    "print(\"Overall Performance (Class-Balanced Model):\")\n",
    "print(classification_report(y_true_clean, y_pred_clean, target_names=['Literal', 'Metaphor'], zero_division=0))\n",
    "\n",
    "aligned_pos_clean = []\n",
    "\n",
    "for i, mask_row in enumerate(mask):\n",
    "    word_ids = test_dataset.word_ids_list[i]\n",
    "    simple_pos = test_dataset.simple_pos_list[i]\n",
    "\n",
    "    aligned_pos_clean.extend([simple_pos[j] for j, m in enumerate(mask_row) if m])\n",
    "\n",
    "\n",
    "\n",
    "pos_comparisons = {\n",
    "    \"Noun vs. Literal\": [\"noun\", \"na\"],\n",
    "    \"Adjective vs. Literal\": [\"adj\", \"na\"],\n",
    "    \"Verb vs. Literal\": [\"verb\", \"na\"],\n",
    "    \"Other vs. Literal\": [\"other\", \"na\"]\n",
    "}\n",
    "\n",
    "for comp_name, categories in pos_comparisons.items():\n",
    "    comparison_mask = np.array([pos in categories for pos in aligned_pos_clean])\n",
    "\n",
    "    if comparison_mask.sum() > 0:\n",
    "        y_true_sub = y_true_clean[comparison_mask]\n",
    "        y_pred_sub = y_pred_clean[comparison_mask]\n",
    "\n",
    "        print(f\"\\n Classification Report for '{comp_name}'\")\n",
    "        print(classification_report(y_true_sub, y_pred_sub, target_names=['Literal', 'Metaphor'], zero_division=0))\n",
    "    else:\n",
    "        print(f\"Comparison '{comp_name}': No relevant tokens found.\")"
   ]
  },
  {
   "cell_type": "code",
   "execution_count": 32,
   "id": "d467d532",
   "metadata": {},
   "outputs": [
    {
     "data": {
      "image/png": "[encoded data removed]",
      "text/plain": [
       "<Figure size 800x500 with 1 Axes>"
      ]
     },
     "metadata": {},
     "output_type": "display_data"
    }
   ],
   "source": [
    "# # F1 Score by POS Category\n",
    "# Prepare data for plotting\n",
    "pos_labels = ['noun', 'adj', 'verb', 'other']\n",
    "f1_scores = []\n",
    "for pos in pos_labels:\n",
    "    comparison_mask = np.array([p == pos or p == 'na' for p in aligned_pos_clean])\n",
    "    if comparison_mask.sum() > 0:\n",
    "        y_true_sub = y_true_clean[comparison_mask]\n",
    "        y_pred_sub = y_pred_clean[comparison_mask]\n",
    "        f1 = precision_recall_fscore_support(y_true_sub, y_pred_sub, average=None, zero_division=0)[2]\n",
    "        f1_scores.append(f1[1] if len(f1) > 1 else 0.0)\n",
    "    else:\n",
    "        f1_scores.append(0.0)\n",
    "df_f1 = pd.DataFrame({'POS': pos_labels, 'F1 Score': f1_scores})\n",
    "plt.figure(figsize=(8, 5))\n",
    "sns.barplot(x='POS', y='F1 Score', data=df_f1, palette='mako')\n",
    "plt.title('F1 Score by POS Category (Class-Balanced Model + Sampled Data)')\n",
    "plt.ylim(0, 1)\n",
    "plt.ylabel('F1 Score')\n",
    "plt.xlabel('POS Category')\n",
    "plt.show()"
   ]
  },
  {
   "cell_type": "markdown",
   "id": "cc047b2a",
   "metadata": {
    "id": "cc047b2a"
   },
   "source": [
    "## Optimizing Class Weights"
   ]
  },
  {
   "cell_type": "code",
   "execution_count": 33,
   "id": "774f6814",
   "metadata": {
    "id": "774f6814"
   },
   "outputs": [
    {
     "name": "stdout",
     "output_type": "stream",
     "text": [
      "{'train_runtime': 56.9667, 'train_samples_per_second': 17.554, 'train_steps_per_second': 0.562, 'train_loss': 0.3684573173522949, 'epoch': 1.0}\n",
      "Multiplier 0.3: Metaphor F1 = 0.680\n",
      "{'train_runtime': 56.7521, 'train_samples_per_second': 17.62, 'train_steps_per_second': 0.564, 'train_loss': 0.3953898251056671, 'epoch': 1.0}\n",
      "Multiplier 0.4: Metaphor F1 = 0.665\n",
      "{'train_runtime': 56.6211, 'train_samples_per_second': 17.661, 'train_steps_per_second': 0.565, 'train_loss': 0.413275808095932, 'epoch': 1.0}\n",
      "Multiplier 0.5: Metaphor F1 = 0.649\n",
      "{'train_runtime': 56.4589, 'train_samples_per_second': 17.712, 'train_steps_per_second': 0.567, 'train_loss': 0.4278331696987152, 'epoch': 1.0}\n",
      "Multiplier 0.6: Metaphor F1 = 0.623\n",
      "Best balance multiplier: 0.3\n"
     ]
    }
   ],
   "source": [
    "def quick_evaluate_balance(weights, train_size=1000, val_size=400):\n",
    "    # Quickly evaluate class weights on small samples\n",
    "\n",
    "    # Tiny training and validation datasets\n",
    "    tiny_train_dataset = MetaphorSentenceDataset(\n",
    "        train_df_all.sample(train_size, random_state=42), tokenizer, max_len=32\n",
    "    )\n",
    "    tiny_val_dataset = MetaphorSentenceDataset(\n",
    "        val_df_all.sample(val_size, random_state=42), tokenizer, max_len=32\n",
    "    )\n",
    "\n",
    "    # Ultra-fast training\n",
    "    quick_args = TrainingArguments(\n",
    "        output_dir=\"./temp_model\",\n",
    "        eval_strategy=\"no\",\n",
    "        save_strategy=\"no\",\n",
    "        learning_rate=1e-4,\n",
    "        per_device_train_batch_size=32,\n",
    "        num_train_epochs=1,\n",
    "        logging_steps=999999,\n",
    "        warmup_steps=0,\n",
    "        fp16=True,\n",
    "        remove_unused_columns=False\n",
    "    )\n",
    "\n",
    "    model = RobertaForTokenClassification.from_pretrained(\"distilroberta-base\", num_labels=2)\n",
    "    trainer = WeightedTrainer(\n",
    "        class_weights=weights,\n",
    "        model=model,\n",
    "        args=quick_args,\n",
    "        train_dataset=tiny_train_dataset,\n",
    "        tokenizer=tokenizer,\n",
    "    )\n",
    "\n",
    "    trainer.train()\n",
    "\n",
    "    # Evaluate\n",
    "    preds = trainer.predict(tiny_val_dataset)\n",
    "    y_pred = preds.predictions.argmax(axis=-1)\n",
    "    mask = preds.label_ids != -100\n",
    "    y_true, y_pred_clean = preds.label_ids[mask], y_pred[mask]\n",
    "\n",
    "    # Return metaphor F1\n",
    "    f1_scores = precision_recall_fscore_support(y_true, y_pred_clean, average=None, zero_division=0)[2]\n",
    "    return f1_scores[1] if len(f1_scores) > 1 else 0\n",
    "\n",
    "\n",
    "# Test different class weight multipliers\n",
    "balance_results = {}\n",
    "for m in [0.3, 0.4, 0.5, 0.6]:\n",
    "    balance_results[m] = quick_evaluate_balance([class_weights[0], class_weights[1] * m])\n",
    "    print(f\"Multiplier {m}: Metaphor F1 = {balance_results[m]:.3f}\")\n",
    "\n",
    "best_multiplier = max(balance_results, key=balance_results.get)\n",
    "final_weights = [class_weights[0], class_weights[1] * best_multiplier]\n",
    "print(f\"Best balance multiplier: {best_multiplier}\")\n"
   ]
  },
  {
   "cell_type": "code",
   "execution_count": 34,
   "id": "j2dhUsBDtJoE",
   "metadata": {
    "id": "j2dhUsBDtJoE"
   },
   "outputs": [
    {
     "name": "stdout",
     "output_type": "stream",
     "text": [
      "Training class-balanced RoBERTa model with optimized weights\n",
      "{'train_runtime': 930.2326, 'train_samples_per_second': 18.463, 'train_steps_per_second': 0.29, 'train_loss': 0.2558425338179977, 'epoch': 3.0}\n",
      "Class-balanced training completed with enhanced metaphor detection\n"
     ]
    }
   ],
   "source": [
    "\n",
    "# Create model and training configuration\n",
    "model_balanced = RobertaForTokenClassification.from_pretrained(\"distilroberta-base\", num_labels=2)\n",
    "\n",
    "training_args_bal_fast = TrainingArguments(\n",
    "    output_dir=\"./metaphor_model_fast_balanced\",\n",
    "    learning_rate=2e-5,\n",
    "    per_device_train_batch_size=64,\n",
    "    per_device_eval_batch_size=64,\n",
    "    num_train_epochs=3,\n",
    "    weight_decay=0.01,\n",
    "    dataloader_num_workers=4,\n",
    "    fp16=True,\n",
    "    remove_unused_columns=False,\n",
    ")\n",
    "\n",
    "# Initialize weighted trainer\n",
    "trainer_balanced = WeightedTrainer(\n",
    "    class_weights=final_weights,\n",
    "    model=model_balanced,\n",
    "    args=training_args_bal_fast,\n",
    "    train_dataset=train_dataset_all,\n",
    "    eval_dataset=val_dataset_all,\n",
    "    tokenizer=tokenizer,\n",
    "    compute_metrics=compute_metrics_enhanced,\n",
    ")\n",
    "\n",
    "# Train the balanced model\n",
    "print(\"Training class-balanced RoBERTa model with optimized weights\")\n",
    "trainer_balanced.train()\n",
    "\n",
    "print(\"Class-balanced training completed with enhanced metaphor detection\")"
   ]
  },
  {
   "cell_type": "markdown",
   "id": "f8f62ca8",
   "metadata": {},
   "source": [
    "### Qualitative evaluation"
   ]
  },
  {
   "cell_type": "code",
   "execution_count": 39,
   "id": "00e0c0cd",
   "metadata": {
    "id": "00e0c0cd"
   },
   "outputs": [
    {
     "data": {
      "text/html": [
       "<div>\n",
       "<style scoped>\n",
       "    .dataframe tbody tr th:only-of-type {\n",
       "        vertical-align: middle;\n",
       "    }\n",
       "\n",
       "    .dataframe tbody tr th {\n",
       "        vertical-align: top;\n",
       "    }\n",
       "\n",
       "    .dataframe thead th {\n",
       "        text-align: right;\n",
       "    }\n",
       "</style>\n",
       "<table border=\"1\" class=\"dataframe\">\n",
       "  <thead>\n",
       "    <tr style=\"text-align: right;\">\n",
       "      <th></th>\n",
       "      <th>original_word</th>\n",
       "      <th>pos</th>\n",
       "      <th>true_label</th>\n",
       "      <th>pred_label</th>\n",
       "      <th>sentence</th>\n",
       "    </tr>\n",
       "  </thead>\n",
       "  <tbody>\n",
       "    <tr>\n",
       "      <th>1081</th>\n",
       "      <td>in</td>\n",
       "      <td>other</td>\n",
       "      <td>Metaphor</td>\n",
       "      <td>Metaphor</td>\n",
       "      <td>Then his example lured his elder son Bertrand to Tripoli in 1112 , and his younger son Alphonse Jourdain there in 1147 .</td>\n",
       "    </tr>\n",
       "    <tr>\n",
       "      <th>550</th>\n",
       "      <td>down</td>\n",
       "      <td>other</td>\n",
       "      <td>Metaphor</td>\n",
       "      <td>Literal</td>\n",
       "      <td>It was Paula 's job to show samples , parading slowly up and down in front of the clients as they sat on the elegant spindle-leg chairs taking in every detail of the garments with a critical and practised eye .</td>\n",
       "    </tr>\n",
       "    <tr>\n",
       "      <th>486</th>\n",
       "      <td>that</td>\n",
       "      <td>other</td>\n",
       "      <td>Metaphor</td>\n",
       "      <td>Metaphor</td>\n",
       "      <td>just turn them off , and that 's it  Just normal conversations  the words that people use in common  different areas of the country , with accents and th  dialect and  one thing and another  it 's for the Oxford English Dictionary  the next edition .</td>\n",
       "    </tr>\n",
       "    <tr>\n",
       "      <th>296</th>\n",
       "      <td>to</td>\n",
       "      <td>other</td>\n",
       "      <td>Metaphor</td>\n",
       "      <td>Metaphor</td>\n",
       "      <td>The magnetic force is perpendicular both to the direction of motion ( +z axis ) and the direction of magnetic field ( [formula ] direction ) .</td>\n",
       "    </tr>\n",
       "    <tr>\n",
       "      <th>1060</th>\n",
       "      <td>approach</td>\n",
       "      <td>noun</td>\n",
       "      <td>Metaphor</td>\n",
       "      <td>Metaphor</td>\n",
       "      <td>Latest corporate unbundler reveals laid-back approach : Roland Franklin , who is leading a 697m pound break-up bid for DRG , talks to Frank Kane</td>\n",
       "    </tr>\n",
       "    <tr>\n",
       "      <th>1052</th>\n",
       "      <td>drop</td>\n",
       "      <td>noun</td>\n",
       "      <td>Metaphor</td>\n",
       "      <td>Metaphor</td>\n",
       "      <td>Not really , because ( 1 ) as current flows there is some potential drop in the electrode itself , ( 2 ) zero conductivity for part of the space can not be electrostatically modelled since there are no dielectrics with Er = 0 , and ( 3 ) when current flows through two materials of different conductivity there is generally a surface charge at the boundary ( see Example 3.4 ) .</td>\n",
       "    </tr>\n",
       "    <tr>\n",
       "      <th>1033</th>\n",
       "      <td>to</td>\n",
       "      <td>other</td>\n",
       "      <td>Metaphor</td>\n",
       "      <td>Metaphor</td>\n",
       "      <td>It would be unfair both to the vector potential and to quantum mechanics to say that none of those formulations have engineering applications ( in fact the most sensitive magnetometer built to date is based on that kind of theory ) , but by and large engineers would n't lose much sleep if the use of A were banned with immediate effect .</td>\n",
       "    </tr>\n",
       "    <tr>\n",
       "      <th>436</th>\n",
       "      <td>virtue</td>\n",
       "      <td>noun</td>\n",
       "      <td>Metaphor</td>\n",
       "      <td>Literal</td>\n",
       "      <td>So the electrons want to move inwards but can not because the ions hold them back by virtue of their electrostatic attraction .</td>\n",
       "    </tr>\n",
       "    <tr>\n",
       "      <th>161</th>\n",
       "      <td>world</td>\n",
       "      <td>noun</td>\n",
       "      <td>Metaphor</td>\n",
       "      <td>Metaphor</td>\n",
       "      <td>Her favourite was the coffee shop in Fenwicks in Bond Street for this was the haunt and the meeting place of all those from the world of fashion .</td>\n",
       "    </tr>\n",
       "    <tr>\n",
       "      <th>318</th>\n",
       "      <td>little</td>\n",
       "      <td>adj</td>\n",
       "      <td>Metaphor</td>\n",
       "      <td>Metaphor</td>\n",
       "      <td>And it 'll be really rather dolly , we 'll have a little holiday you see  together  and we sort of  go teaching together and</td>\n",
       "    </tr>\n",
       "  </tbody>\n",
       "</table>\n",
       "</div>"
      ],
      "text/plain": [
       "     original_word    pos true_label pred_label  \\\n",
       "1081            in  other   Metaphor   Metaphor   \n",
       "550           down  other   Metaphor    Literal   \n",
       "486           that  other   Metaphor   Metaphor   \n",
       "296             to  other   Metaphor   Metaphor   \n",
       "1060      approach   noun   Metaphor   Metaphor   \n",
       "1052          drop   noun   Metaphor   Metaphor   \n",
       "1033            to  other   Metaphor   Metaphor   \n",
       "436         virtue   noun   Metaphor    Literal   \n",
       "161          world   noun   Metaphor   Metaphor   \n",
       "318         little    adj   Metaphor   Metaphor   \n",
       "\n",
       "                                                                                                                                                                                                                                                                                                                                                                                        sentence  \n",
       "1081                                                                                                                                                                                                                                                                    Then his example lured his elder son Bertrand to Tripoli in 1112 , and his younger son Alphonse Jourdain there in 1147 .  \n",
       "550                                                                                                                                                                           It was Paula 's job to show samples , parading slowly up and down in front of the clients as they sat on the elegant spindle-leg chairs taking in every detail of the garments with a critical and practised eye .  \n",
       "486                                                                                                                                   just turn them off , and that 's it  Just normal conversations  the words that people use in common  different areas of the country , with accents and th  dialect and  one thing and another  it 's for the Oxford English Dictionary  the next edition .  \n",
       "296                                                                                                                                                                                                                                               The magnetic force is perpendicular both to the direction of motion ( +z axis ) and the direction of magnetic field ( [formula ] direction ) .  \n",
       "1060                                                                                                                                                                                                                                            Latest corporate unbundler reveals laid-back approach : Roland Franklin , who is leading a 697m pound break-up bid for DRG , talks to Frank Kane  \n",
       "1052  Not really , because ( 1 ) as current flows there is some potential drop in the electrode itself , ( 2 ) zero conductivity for part of the space can not be electrostatically modelled since there are no dielectrics with Er = 0 , and ( 3 ) when current flows through two materials of different conductivity there is generally a surface charge at the boundary ( see Example 3.4 ) .  \n",
       "1033                                          It would be unfair both to the vector potential and to quantum mechanics to say that none of those formulations have engineering applications ( in fact the most sensitive magnetometer built to date is based on that kind of theory ) , but by and large engineers would n't lose much sleep if the use of A were banned with immediate effect .  \n",
       "436                                                                                                                                                                                                                                                              So the electrons want to move inwards but can not because the ions hold them back by virtue of their electrostatic attraction .  \n",
       "161                                                                                                                                                                                                                                           Her favourite was the coffee shop in Fenwicks in Bond Street for this was the haunt and the meeting place of all those from the world of fashion .  \n",
       "318                                                                                                                                                                                                                                                                 And it 'll be really rather dolly , we 'll have a little holiday you see  together  and we sort of  go teaching together and  "
      ]
     },
     "execution_count": 39,
     "metadata": {},
     "output_type": "execute_result"
    }
   ],
   "source": [
    "preds_out = trainer_balanced.predict(test_dataset)\n",
    "logits = preds_out.predictions           \n",
    "y_pred = logits.argmax(axis=-1)          \n",
    "y_true = preds_out.label_ids             \n",
    "\n",
    "rows = []\n",
    "n_samples = y_pred.shape[0]\n",
    "\n",
    "for i in range(n_samples):\n",
    "    word_ids = test_dataset.word_ids_list[i]\n",
    "    pos_seq = test_dataset.simple_pos_list[i]\n",
    "    sentence_words = test_dataset.df.loc[i, \"words\"]\n",
    "    input_ids = test_dataset.encodings[\"input_ids\"][i].tolist()\n",
    "\n",
    "    seq_len = min(len(word_ids), y_pred.shape[1], len(input_ids), len(y_true[i]))\n",
    "    for j in range(seq_len):\n",
    "        if y_true[i][j] == -100:\n",
    "            continue\n",
    "\n",
    "        wid = word_ids[j]\n",
    "        if wid is None or not (0 <= wid < len(sentence_words)):\n",
    "            continue\n",
    "\n",
    "        rows.append({\n",
    "            \"original_word\": sentence_words[wid],\n",
    "            \"pos\": pos_seq[j],\n",
    "            \"true_label\": \"Metaphor\" if int(y_true[i][j]) == 1 else \"Literal\",\n",
    "            \"pred_label\": \"Metaphor\" if int(y_pred[i][j]) == 1 else \"Literal\",\n",
    "            \"sentence\": \" \".join(sentence_words)\n",
    "        })\n",
    "\n",
    "df_tokens = pd.DataFrame(rows)\n",
    "\n",
    "# Keep only true metaphors\n",
    "df_tokens = df_tokens[df_tokens[\"true_label\"] == \"Metaphor\"].reset_index(drop=True)\n",
    "\n",
    "# Set pandas to display the full content of each column (no truncation)\n",
    "pd.set_option('display.max_colwidth', None)\n",
    "\n",
    "df_tokens.sample(10)"
   ]
  },
  {
   "cell_type": "markdown",
   "id": "1d3cdc76",
   "metadata": {
    "id": "1d3cdc76"
   },
   "source": [
    "## Evaluating the Final Model on Test Set\n",
    "\n"
   ]
  },
  {
   "cell_type": "code",
   "execution_count": 36,
   "id": "q8KA2ggKHMTb",
   "metadata": {
    "id": "q8KA2ggKHMTb"
   },
   "outputs": [
    {
     "name": "stdout",
     "output_type": "stream",
     "text": [
      "Overall Performance (Class-Balanced Model):\n",
      "              precision    recall  f1-score   support\n",
      "\n",
      "     Literal       0.95      0.95      0.95     15567\n",
      "    Metaphor       0.73      0.75      0.74      2763\n",
      "\n",
      "    accuracy                           0.92     18330\n",
      "   macro avg       0.84      0.85      0.85     18330\n",
      "weighted avg       0.92      0.92      0.92     18330\n",
      "\n",
      "\n",
      "Classification Report for 'Noun vs. Literal'\n",
      "              precision    recall  f1-score   support\n",
      "\n",
      "     Literal       0.98      0.95      0.97     15567\n",
      "    Metaphor       0.29      0.54      0.38       600\n",
      "\n",
      "    accuracy                           0.94     16167\n",
      "   macro avg       0.64      0.74      0.67     16167\n",
      "weighted avg       0.96      0.94      0.94     16167\n",
      "\n",
      "\n",
      "Classification Report for 'Adjective vs. Literal'\n",
      "              precision    recall  f1-score   support\n",
      "\n",
      "     Literal       0.99      0.95      0.97     15567\n",
      "    Metaphor       0.14      0.49      0.22       255\n",
      "\n",
      "    accuracy                           0.94     15822\n",
      "   macro avg       0.57      0.72      0.59     15822\n",
      "weighted avg       0.98      0.94      0.96     15822\n",
      "\n",
      "\n",
      "Classification Report for 'Verb vs. Literal'\n",
      "              precision    recall  f1-score   support\n",
      "\n",
      "     Literal       0.99      0.95      0.97     15567\n",
      "    Metaphor       0.41      0.77      0.54       697\n",
      "\n",
      "    accuracy                           0.94     16264\n",
      "   macro avg       0.70      0.86      0.75     16264\n",
      "weighted avg       0.96      0.94      0.95     16264\n",
      "\n",
      "\n",
      "Classification Report for 'Other vs. Literal'\n",
      "              precision    recall  f1-score   support\n",
      "\n",
      "     Literal       0.99      0.95      0.97     15567\n",
      "    Metaphor       0.58      0.89      0.70      1211\n",
      "\n",
      "    accuracy                           0.95     16778\n",
      "   macro avg       0.79      0.92      0.84     16778\n",
      "weighted avg       0.96      0.95      0.95     16778\n",
      "\n"
     ]
    }
   ],
   "source": [
    "# Get predictions\n",
    "preds_out = trainer_balanced.predict(test_dataset_all)\n",
    "logits = preds_out.predictions\n",
    "y_pred = logits.argmax(axis=-1)\n",
    "y_true = preds_out.label_ids\n",
    "mask = y_true != -100\n",
    "\n",
    "# Cleaned arrays (only real tokens)\n",
    "y_true_clean = y_true[mask].flatten()\n",
    "y_pred_clean = y_pred[mask].flatten()\n",
    "\n",
    "print(\"Overall Performance (Class-Balanced Model):\")\n",
    "print(classification_report(y_true_clean, y_pred_clean, target_names=['Literal', 'Metaphor'], zero_division=0))\n",
    "\n",
    "# Align POS tags with non-ignored tokens\n",
    "aligned_pos_clean = []\n",
    "for i, mask_row in enumerate(mask):\n",
    "    word_ids = test_dataset_all.word_ids_list[i]\n",
    "    pos_tags = test_dataset_all.simple_pos_list[i]\n",
    "\n",
    "    aligned_pos_clean.extend([pos_tags[j] for j, m in enumerate(mask_row) if m])\n",
    "\n",
    "#  POS-Conditioned Classification Reports\n",
    "pos_comparisons = {\n",
    "    \"Noun vs. Literal\": [\"noun\", \"na\"],\n",
    "    \"Adjective vs. Literal\": [\"adj\", \"na\"],\n",
    "    \"Verb vs. Literal\": [\"verb\", \"na\"],\n",
    "    \"Other vs. Literal\": [\"other\", \"na\"]\n",
    "}\n",
    "\n",
    "for comp_name, categories in pos_comparisons.items():\n",
    "    comparison_mask = np.array([pos in categories for pos in aligned_pos_clean])\n",
    "\n",
    "    if comparison_mask.sum() > 0:\n",
    "        y_true_sub = y_true_clean[comparison_mask]\n",
    "        y_pred_sub = y_pred_clean[comparison_mask]\n",
    "\n",
    "        print(f\"\\nClassification Report for '{comp_name}'\")\n",
    "        print(classification_report(y_true_sub, y_pred_sub, target_names=['Literal', 'Metaphor'], zero_division=0))\n",
    "    else:\n",
    "        print(f\"Comparison '{comp_name}': No relevant tokens found.\")\n"
   ]
  },
  {
   "cell_type": "code",
   "execution_count": 37,
   "id": "49a31df6",
   "metadata": {},
   "outputs": [
    {
     "data": {
      "image/png": "[encoded data removed]",
      "text/plain": [
       "<Figure size 640x480 with 2 Axes>"
      ]
     },
     "metadata": {},
     "output_type": "display_data"
    }
   ],
   "source": [
    "# Compute confusion matrix\n",
    "cm = confusion_matrix(y_true_clean, y_pred_clean)\n",
    "disp = ConfusionMatrixDisplay(confusion_matrix=cm, display_labels=['Literal', 'Metaphor'])\n",
    "disp.plot(cmap=plt.cm.Blues)\n",
    "plt.title(\"Confusion Matrix - Final Model with All Data\")\n",
    "plt.show()"
   ]
  },
  {
   "cell_type": "code",
   "execution_count": 38,
   "id": "f9b9396d",
   "metadata": {},
   "outputs": [
    {
     "data": {
      "image/png": "[encoded data removed]",
      "text/plain": [
       "<Figure size 800x500 with 1 Axes>"
      ]
     },
     "metadata": {},
     "output_type": "display_data"
    }
   ],
   "source": [
    "# # F1 Score by POS Category\n",
    "# Prepare data for plotting\n",
    "pos_labels = ['noun', 'adj', 'verb', 'other']\n",
    "f1_scores = []\n",
    "for pos in pos_labels:\n",
    "    comparison_mask = np.array([p == pos or p == 'na' for p in aligned_pos_clean])\n",
    "    if comparison_mask.sum() > 0:\n",
    "        y_true_sub = y_true_clean[comparison_mask]\n",
    "        y_pred_sub = y_pred_clean[comparison_mask]\n",
    "        f1 = precision_recall_fscore_support(y_true_sub, y_pred_sub, average=None, zero_division=0)[2]\n",
    "        f1_scores.append(f1[1] if len(f1) > 1 else 0.0)\n",
    "    else:\n",
    "        f1_scores.append(0.0)\n",
    "df_f1 = pd.DataFrame({'POS': pos_labels, 'F1 Score': f1_scores})\n",
    "plt.figure(figsize=(8, 5))\n",
    "sns.barplot(x='POS', y='F1 Score', data=df_f1, palette='mako')\n",
    "plt.title('F1 Score by POS Category (Final Model+All Data)')\n",
    "plt.ylim(0, 1)\n",
    "plt.ylabel('F1 Score')\n",
    "plt.xlabel('POS Category')\n",
    "plt.show()"
   ]
  }
 ],
 "metadata": {
  "colab": {
   "provenance": []
  },
  "kernelspec": {
   "display_name": "Python 3",
   "language": "python",
   "name": "python3"
  },
  "language_info": {
   "codemirror_mode": {
    "name": "ipython",
    "version": 3
   },
   "file_extension": ".py",
   "mimetype": "text/x-python",
   "name": "python",
   "nbconvert_exporter": "python",
   "pygments_lexer": "ipython3",
   "version": "3.12.1"
  }
 },
 "nbformat": 4,
 "nbformat_minor": 5
}
